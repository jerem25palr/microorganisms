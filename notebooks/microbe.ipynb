{
 "cells": [
  {
   "cell_type": "code",
   "execution_count": 26,
   "metadata": {},
   "outputs": [],
   "source": [
    "import pandas as pd \n",
    "import os"
   ]
  },
  {
   "cell_type": "code",
   "execution_count": 27,
   "metadata": {},
   "outputs": [],
   "source": [
    "notebook_path = os.path.dirname(os.getcwd())"
   ]
  },
  {
   "cell_type": "code",
   "execution_count": 28,
   "metadata": {},
   "outputs": [
    {
     "data": {
      "text/html": [
       "<div>\n",
       "<style scoped>\n",
       "    .dataframe tbody tr th:only-of-type {\n",
       "        vertical-align: middle;\n",
       "    }\n",
       "\n",
       "    .dataframe tbody tr th {\n",
       "        vertical-align: top;\n",
       "    }\n",
       "\n",
       "    .dataframe thead th {\n",
       "        text-align: right;\n",
       "    }\n",
       "</style>\n",
       "<table border=\"1\" class=\"dataframe\">\n",
       "  <thead>\n",
       "    <tr style=\"text-align: right;\">\n",
       "      <th></th>\n",
       "      <th>Solidity</th>\n",
       "      <th>Eccentricity</th>\n",
       "      <th>EquivDiameter</th>\n",
       "      <th>Extrema</th>\n",
       "      <th>FilledArea</th>\n",
       "      <th>Extent</th>\n",
       "      <th>Orientation</th>\n",
       "      <th>EulerNumber</th>\n",
       "      <th>BoundingBox1</th>\n",
       "      <th>BoundingBox2</th>\n",
       "      <th>...</th>\n",
       "      <th>ConvexHull4</th>\n",
       "      <th>MajorAxisLength</th>\n",
       "      <th>MinorAxisLength</th>\n",
       "      <th>Perimeter</th>\n",
       "      <th>ConvexArea</th>\n",
       "      <th>Centroid1</th>\n",
       "      <th>Centroid2</th>\n",
       "      <th>Area</th>\n",
       "      <th>raddi</th>\n",
       "      <th>microorganisms</th>\n",
       "    </tr>\n",
       "    <tr>\n",
       "      <th>id</th>\n",
       "      <th></th>\n",
       "      <th></th>\n",
       "      <th></th>\n",
       "      <th></th>\n",
       "      <th></th>\n",
       "      <th></th>\n",
       "      <th></th>\n",
       "      <th></th>\n",
       "      <th></th>\n",
       "      <th></th>\n",
       "      <th></th>\n",
       "      <th></th>\n",
       "      <th></th>\n",
       "      <th></th>\n",
       "      <th></th>\n",
       "      <th></th>\n",
       "      <th></th>\n",
       "      <th></th>\n",
       "      <th></th>\n",
       "      <th></th>\n",
       "      <th></th>\n",
       "    </tr>\n",
       "  </thead>\n",
       "  <tbody>\n",
       "    <tr>\n",
       "      <th>0</th>\n",
       "      <td>10.70</td>\n",
       "      <td>15.8</td>\n",
       "      <td>5.43</td>\n",
       "      <td>3.75</td>\n",
       "      <td>0.785</td>\n",
       "      <td>8.14</td>\n",
       "      <td>2.15</td>\n",
       "      <td>22.3</td>\n",
       "      <td>2.97</td>\n",
       "      <td>10.90</td>\n",
       "      <td>...</td>\n",
       "      <td>2.97</td>\n",
       "      <td>1.34</td>\n",
       "      <td>1.61</td>\n",
       "      <td>0.683</td>\n",
       "      <td>0.195</td>\n",
       "      <td>3.63</td>\n",
       "      <td>12.10</td>\n",
       "      <td>1.310</td>\n",
       "      <td>7.99</td>\n",
       "      <td>Spirogyra</td>\n",
       "    </tr>\n",
       "    <tr>\n",
       "      <th>1</th>\n",
       "      <td>5.60</td>\n",
       "      <td>18.3</td>\n",
       "      <td>4.14</td>\n",
       "      <td>6.16</td>\n",
       "      <td>0.364</td>\n",
       "      <td>3.51</td>\n",
       "      <td>18.60</td>\n",
       "      <td>22.5</td>\n",
       "      <td>5.41</td>\n",
       "      <td>19.20</td>\n",
       "      <td>...</td>\n",
       "      <td>5.47</td>\n",
       "      <td>1.52</td>\n",
       "      <td>1.52</td>\n",
       "      <td>1.010</td>\n",
       "      <td>0.215</td>\n",
       "      <td>6.01</td>\n",
       "      <td>20.60</td>\n",
       "      <td>0.765</td>\n",
       "      <td>7.99</td>\n",
       "      <td>Spirogyra</td>\n",
       "    </tr>\n",
       "    <tr>\n",
       "      <th>2</th>\n",
       "      <td>8.32</td>\n",
       "      <td>19.8</td>\n",
       "      <td>4.63</td>\n",
       "      <td>6.66</td>\n",
       "      <td>0.415</td>\n",
       "      <td>5.85</td>\n",
       "      <td>21.00</td>\n",
       "      <td>22.4</td>\n",
       "      <td>5.96</td>\n",
       "      <td>10.20</td>\n",
       "      <td>...</td>\n",
       "      <td>5.96</td>\n",
       "      <td>1.63</td>\n",
       "      <td>1.38</td>\n",
       "      <td>1.110</td>\n",
       "      <td>0.182</td>\n",
       "      <td>6.55</td>\n",
       "      <td>11.50</td>\n",
       "      <td>0.953</td>\n",
       "      <td>7.99</td>\n",
       "      <td>Spirogyra</td>\n",
       "    </tr>\n",
       "    <tr>\n",
       "      <th>3</th>\n",
       "      <td>10.10</td>\n",
       "      <td>17.9</td>\n",
       "      <td>7.29</td>\n",
       "      <td>11.10</td>\n",
       "      <td>1.470</td>\n",
       "      <td>6.30</td>\n",
       "      <td>9.94</td>\n",
       "      <td>21.9</td>\n",
       "      <td>8.81</td>\n",
       "      <td>10.70</td>\n",
       "      <td>...</td>\n",
       "      <td>8.88</td>\n",
       "      <td>2.04</td>\n",
       "      <td>2.12</td>\n",
       "      <td>0.715</td>\n",
       "      <td>0.371</td>\n",
       "      <td>10.30</td>\n",
       "      <td>12.00</td>\n",
       "      <td>2.340</td>\n",
       "      <td>7.99</td>\n",
       "      <td>Spirogyra</td>\n",
       "    </tr>\n",
       "    <tr>\n",
       "      <th>4</th>\n",
       "      <td>6.27</td>\n",
       "      <td>20.2</td>\n",
       "      <td>20.10</td>\n",
       "      <td>10.70</td>\n",
       "      <td>14.700</td>\n",
       "      <td>3.97</td>\n",
       "      <td>2.58</td>\n",
       "      <td>11.9</td>\n",
       "      <td>10.20</td>\n",
       "      <td>1.22</td>\n",
       "      <td>...</td>\n",
       "      <td>10.20</td>\n",
       "      <td>7.78</td>\n",
       "      <td>6.21</td>\n",
       "      <td>6.800</td>\n",
       "      <td>4.440</td>\n",
       "      <td>14.00</td>\n",
       "      <td>9.55</td>\n",
       "      <td>17.600</td>\n",
       "      <td>7.99</td>\n",
       "      <td>Spirogyra</td>\n",
       "    </tr>\n",
       "  </tbody>\n",
       "</table>\n",
       "<p>5 rows × 25 columns</p>\n",
       "</div>"
      ],
      "text/plain": [
       "    Solidity  Eccentricity  EquivDiameter  Extrema  FilledArea  Extent  \\\n",
       "id                                                                       \n",
       "0      10.70          15.8           5.43     3.75       0.785    8.14   \n",
       "1       5.60          18.3           4.14     6.16       0.364    3.51   \n",
       "2       8.32          19.8           4.63     6.66       0.415    5.85   \n",
       "3      10.10          17.9           7.29    11.10       1.470    6.30   \n",
       "4       6.27          20.2          20.10    10.70      14.700    3.97   \n",
       "\n",
       "    Orientation  EulerNumber  BoundingBox1  BoundingBox2  ...  ConvexHull4  \\\n",
       "id                                                        ...                \n",
       "0          2.15         22.3          2.97         10.90  ...         2.97   \n",
       "1         18.60         22.5          5.41         19.20  ...         5.47   \n",
       "2         21.00         22.4          5.96         10.20  ...         5.96   \n",
       "3          9.94         21.9          8.81         10.70  ...         8.88   \n",
       "4          2.58         11.9         10.20          1.22  ...        10.20   \n",
       "\n",
       "    MajorAxisLength  MinorAxisLength  Perimeter  ConvexArea  Centroid1  \\\n",
       "id                                                                       \n",
       "0              1.34             1.61      0.683       0.195       3.63   \n",
       "1              1.52             1.52      1.010       0.215       6.01   \n",
       "2              1.63             1.38      1.110       0.182       6.55   \n",
       "3              2.04             2.12      0.715       0.371      10.30   \n",
       "4              7.78             6.21      6.800       4.440      14.00   \n",
       "\n",
       "    Centroid2    Area  raddi  microorganisms  \n",
       "id                                            \n",
       "0       12.10   1.310   7.99       Spirogyra  \n",
       "1       20.60   0.765   7.99       Spirogyra  \n",
       "2       11.50   0.953   7.99       Spirogyra  \n",
       "3       12.00   2.340   7.99       Spirogyra  \n",
       "4        9.55  17.600   7.99       Spirogyra  \n",
       "\n",
       "[5 rows x 25 columns]"
      ]
     },
     "execution_count": 28,
     "metadata": {},
     "output_type": "execute_result"
    }
   ],
   "source": [
    "microbes = pd.read_csv(os.path.join(notebook_path, 'data/microbes.csv'))\n",
    "microbes.set_index('id', inplace=True)\n",
    "microbes.head()\n"
   ]
  },
  {
   "cell_type": "code",
   "execution_count": 29,
   "metadata": {},
   "outputs": [
    {
     "data": {
      "text/plain": [
       "0.2430635175418482"
      ]
     },
     "execution_count": 29,
     "metadata": {},
     "output_type": "execute_result"
    }
   ],
   "source": [
    "max(microbes[\"microorganisms\"].value_counts()/len(microbes))"
   ]
  },
  {
   "cell_type": "code",
   "execution_count": 30,
   "metadata": {},
   "outputs": [
    {
     "data": {
      "text/plain": [
       "array(['Spirogyra', 'Volvox', 'Pithophora', 'Yeast', 'Raizopus',\n",
       "       'Penicillum', 'Aspergillus sp', 'Protozoa', 'Diatom', 'Ulothrix'],\n",
       "      dtype=object)"
      ]
     },
     "execution_count": 30,
     "metadata": {},
     "output_type": "execute_result"
    }
   ],
   "source": [
    "microbes[\"microorganisms\"].unique()"
   ]
  },
  {
   "cell_type": "code",
   "execution_count": 31,
   "metadata": {},
   "outputs": [],
   "source": [
    "from sklearn.model_selection import train_test_split\n",
    "\n",
    "X = microbes.drop('microorganisms', axis=1)\n",
    "y = microbes['microorganisms']\n",
    "\n",
    "X_train, X_test, y_train, y_test = train_test_split(X, y, test_size=0.2, random_state=42)\n"
   ]
  },
  {
   "cell_type": "code",
   "execution_count": 32,
   "metadata": {},
   "outputs": [
    {
     "name": "stdout",
     "output_type": "stream",
     "text": [
      "                precision    recall  f1-score   support\n",
      "\n",
      "Aspergillus sp       0.39      0.47      0.42       753\n",
      "        Diatom       0.39      0.23      0.29       345\n",
      "    Penicillum       0.30      0.03      0.05       235\n",
      "    Pithophora       0.62      0.54      0.58       280\n",
      "      Protozoa       0.44      0.39      0.41       770\n",
      "      Raizopus       0.64      0.72      0.68       534\n",
      "     Spirogyra       0.00      0.00      0.00       112\n",
      "      Ulothrix       0.46      0.61      0.53      1497\n",
      "        Volvox       0.49      0.51      0.50       844\n",
      "         Yeast       0.54      0.42      0.47       736\n",
      "\n",
      "      accuracy                           0.48      6106\n",
      "     macro avg       0.43      0.39      0.39      6106\n",
      "  weighted avg       0.47      0.48      0.46      6106\n",
      "\n"
     ]
    },
    {
     "name": "stderr",
     "output_type": "stream",
     "text": [
      "/home/augustinmvl/.pyenv/versions/3.10.12/envs/Artefact/lib/python3.10/site-packages/sklearn/linear_model/_logistic.py:460: ConvergenceWarning: lbfgs failed to converge (status=1):\n",
      "STOP: TOTAL NO. of ITERATIONS REACHED LIMIT.\n",
      "\n",
      "Increase the number of iterations (max_iter) or scale the data as shown in:\n",
      "    https://scikit-learn.org/stable/modules/preprocessing.html\n",
      "Please also refer to the documentation for alternative solver options:\n",
      "    https://scikit-learn.org/stable/modules/linear_model.html#logistic-regression\n",
      "  n_iter_i = _check_optimize_result(\n"
     ]
    }
   ],
   "source": [
    "from sklearn.linear_model import LogisticRegression\n",
    "from sklearn.metrics import classification_report\n",
    "\n",
    "model = LogisticRegression(max_iter=1000)\n",
    "model.fit(X_train, y_train)\n",
    "\n",
    "y_pred = model.predict(X_test)\n",
    "\n",
    "print(classification_report(y_test, y_pred))\n",
    "\n"
   ]
  },
  {
   "cell_type": "code",
   "execution_count": 33,
   "metadata": {},
   "outputs": [
    {
     "data": {
      "image/png": "[encoded data removed]",
      "text/plain": [
       "<Figure size 1200x600 with 1 Axes>"
      ]
     },
     "metadata": {},
     "output_type": "display_data"
    },
    {
     "name": "stdout",
     "output_type": "stream",
     "text": [
      "\n",
      "Top 10 Most Important Features:\n",
      "            feature  importance\n",
      "22             Area    1.432986\n",
      "18        Perimeter    1.425881\n",
      "16  MajorAxisLength    1.307503\n",
      "17  MinorAxisLength    1.161531\n",
      "8      BoundingBox1    0.823607\n",
      "2     EquivDiameter    0.801281\n",
      "20        Centroid1    0.582219\n",
      "10     BoundingBox3    0.578321\n",
      "4        FilledArea    0.516821\n",
      "19       ConvexArea    0.455800\n"
     ]
    }
   ],
   "source": [
    "import numpy as np\n",
    "import matplotlib.pyplot as plt\n",
    "\n",
    "# Get feature importance\n",
    "feature_importance = np.abs(model.coef_).mean(axis=0)  # Average across all classes for multiclass\n",
    "feature_names = X.columns\n",
    "\n",
    "# Create DataFrame of feature importance\n",
    "importance_df = pd.DataFrame({'feature': feature_names, 'importance': feature_importance})\n",
    "importance_df = importance_df.sort_values('importance', ascending=False)\n",
    "\n",
    "# Plot feature importance\n",
    "plt.figure(figsize=(12, 6))\n",
    "plt.bar(importance_df['feature'], importance_df['importance'])\n",
    "plt.xticks(rotation=45, ha='right')\n",
    "plt.title('Feature Importance in Logistic Regression Model')\n",
    "plt.xlabel('Features')\n",
    "plt.ylabel('Absolute Coefficient Value')\n",
    "plt.tight_layout()\n",
    "plt.show()\n",
    "\n",
    "# Print top 10 most important features\n",
    "print(\"\\nTop 10 Most Important Features:\")\n",
    "print(importance_df.head(10))"
   ]
  },
  {
   "cell_type": "code",
   "execution_count": 34,
   "metadata": {},
   "outputs": [
    {
     "name": "stdout",
     "output_type": "stream",
     "text": [
      "                precision    recall  f1-score   support\n",
      "\n",
      "Aspergillus sp       0.27      0.24      0.26       753\n",
      "        Diatom       0.24      0.04      0.07       345\n",
      "    Penicillum       0.00      0.00      0.00       235\n",
      "    Pithophora       0.60      0.34      0.44       280\n",
      "      Protozoa       0.23      0.06      0.09       770\n",
      "      Raizopus       0.47      0.81      0.59       534\n",
      "     Spirogyra       0.00      0.00      0.00       112\n",
      "      Ulothrix       0.34      0.69      0.45      1497\n",
      "        Volvox       0.29      0.28      0.29       844\n",
      "         Yeast       0.55      0.17      0.26       736\n",
      "\n",
      "      accuracy                           0.35      6106\n",
      "     macro avg       0.30      0.26      0.24      6106\n",
      "  weighted avg       0.33      0.35      0.30      6106\n",
      "\n"
     ]
    },
    {
     "name": "stderr",
     "output_type": "stream",
     "text": [
      "/home/augustinmvl/.pyenv/versions/3.10.12/envs/Artefact/lib/python3.10/site-packages/sklearn/metrics/_classification.py:1469: UndefinedMetricWarning: Precision and F-score are ill-defined and being set to 0.0 in labels with no predicted samples. Use `zero_division` parameter to control this behavior.\n",
      "  _warn_prf(average, modifier, msg_start, len(result))\n",
      "/home/augustinmvl/.pyenv/versions/3.10.12/envs/Artefact/lib/python3.10/site-packages/sklearn/metrics/_classification.py:1469: UndefinedMetricWarning: Precision and F-score are ill-defined and being set to 0.0 in labels with no predicted samples. Use `zero_division` parameter to control this behavior.\n",
      "  _warn_prf(average, modifier, msg_start, len(result))\n",
      "/home/augustinmvl/.pyenv/versions/3.10.12/envs/Artefact/lib/python3.10/site-packages/sklearn/metrics/_classification.py:1469: UndefinedMetricWarning: Precision and F-score are ill-defined and being set to 0.0 in labels with no predicted samples. Use `zero_division` parameter to control this behavior.\n",
      "  _warn_prf(average, modifier, msg_start, len(result))\n"
     ]
    }
   ],
   "source": [
    "X = X[importance_df.feature[:4].values]\n",
    "\n",
    "\n",
    "X_train, X_test, y_train, y_test = train_test_split(X, y, test_size=0.2, random_state=42)\n",
    "\n",
    "model = LogisticRegression(max_iter=1000)\n",
    "model.fit(X_train, y_train)\n",
    "\n",
    "predictions = model.predict(X_test)\n",
    "\n",
    "print(classification_report(y_test, predictions))"
   ]
  },
  {
   "cell_type": "code",
   "execution_count": 35,
   "metadata": {},
   "outputs": [
    {
     "name": "stdout",
     "output_type": "stream",
     "text": [
      "                precision    recall  f1-score   support\n",
      "\n",
      "Aspergillus sp       0.97      0.97      0.97       753\n",
      "        Diatom       0.97      1.00      0.99       345\n",
      "    Penicillum       1.00      1.00      1.00       235\n",
      "    Pithophora       0.97      0.94      0.95       280\n",
      "      Protozoa       0.99      1.00      0.99       770\n",
      "      Raizopus       1.00      1.00      1.00       534\n",
      "     Spirogyra       0.98      0.79      0.87       112\n",
      "      Ulothrix       0.99      0.98      0.99      1497\n",
      "        Volvox       0.99      1.00      1.00       844\n",
      "         Yeast       0.99      1.00      0.99       736\n",
      "\n",
      "      accuracy                           0.99      6106\n",
      "     macro avg       0.98      0.97      0.97      6106\n",
      "  weighted avg       0.99      0.99      0.99      6106\n",
      "\n"
     ]
    }
   ],
   "source": [
    "from sklearn.ensemble import RandomForestClassifier\n",
    "\n",
    "model = RandomForestClassifier()\n",
    "model.fit(X_train, y_train)\n",
    "\n",
    "predictions = model.predict(X_test)\n",
    "\n",
    "print(classification_report(y_test, predictions))"
   ]
  },
  {
   "cell_type": "code",
   "execution_count": 36,
   "metadata": {},
   "outputs": [],
   "source": [
    "import pickle\n",
    "import os\n",
    "\n",
    "saving_path = os.path.join(notebook_path, 'models/microbe_model.pkl')\n",
    "os.makedirs(os.path.dirname(saving_path), exist_ok=True)\n",
    "pickle.dump(model, open(saving_path, 'wb'))"
   ]
  }
 ],
 "metadata": {
  "kernelspec": {
   "display_name": "Artefact",
   "language": "python",
   "name": "python3"
  },
  "language_info": {
   "codemirror_mode": {
    "name": "ipython",
    "version": 3
   },
   "file_extension": ".py",
   "mimetype": "text/x-python",
   "name": "python",
   "nbconvert_exporter": "python",
   "pygments_lexer": "ipython3",
   "version": "3.10.12"
  }
 },
 "nbformat": 4,
 "nbformat_minor": 2
}
